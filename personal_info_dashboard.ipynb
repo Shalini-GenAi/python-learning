{
 "cells": [
  {
   "cell_type": "code",
   "execution_count": null,
   "id": "05757f41",
   "metadata": {},
   "outputs": [
    {
     "name": "stdout",
     "output_type": "stream",
     "text": [
      "===Personal Info Dashboard===\n",
      "This program will give you some fun stats about yourself\n",
      "Hello Sujal, here are your details:\n",
      "- You have lived approximately 819936000 seconds.\n",
      "- Your annual income is Rs1200000.\n",
      "- The temperature in your city today is 73.4°F.\n",
      "- The simple interest is Rs2160.0.\n",
      "Thank you for using Personal Info Dashboard!\n"
     ]
    }
   ],
   "source": [
    "print(\"===Personal Info Dashboard===\")\n",
    "print(\"This program will give you some fun stats about yourself!\")\n",
    "name=input(\"What is your name? \")\n",
    "age=int(input(\"How old are you? \"))\n",
    "monthly_income=int(input(\"What is your monthly income? \"))\n",
    "temp_celsius=float(input(\"What is the celsius temperature in your city today?\"))\n",
    "principal=int(input(\"What is the principal amount?\"))\n",
    "rate=int(input(\"What is the rate of interest?\"))\n",
    "time=int(input(\"What is the time (in years)?\"))\n",
    "seconds = age * 365 * 24 * 60 * 60\n",
    "income = monthly_income * 12\n",
    "temp_fahrenheit = (temp_celsius * 9/5) + 32\n",
    "interest = (principal * rate * time) / 100\n",
    "print(f\"Hello {name}, here are your details:\")\n",
    "print(f\"- You have lived approximately {seconds} seconds.\")\n",
    "print(f\"- Your annual income is Rs{income}.\")\n",
    "print(f\"- The temperature in your city today is {temp_fahrenheit}°F.\")\n",
    "print(f\"- The simple interest is Rs{interest}.\")\n",
    "print(\"Thank you for using Personal Info Dashboard!\")"
   ]
  }
 ],
 "metadata": {
  "kernelspec": {
   "display_name": "Python 3",
   "language": "python",
   "name": "python3"
  },
  "language_info": {
   "codemirror_mode": {
    "name": "ipython",
    "version": 3
   },
   "file_extension": ".py",
   "mimetype": "text/x-python",
   "name": "python",
   "nbconvert_exporter": "python",
   "pygments_lexer": "ipython3",
   "version": "3.13.1"
  }
 },
 "nbformat": 4,
 "nbformat_minor": 5
}
