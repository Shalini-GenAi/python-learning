{
 "cells": [
  {
   "cell_type": "code",
   "execution_count": null,
   "id": "a11fa2d5",
   "metadata": {},
   "outputs": [
    {
     "name": "stdout",
     "output_type": "stream",
     "text": [
      "My name is Shalini Negi, I am 19 years old and my height is 5.3 feet.\n"
     ]
    }
   ],
   "source": [
    "# store and print variables in Python\n",
    "Name = \"Shalini Negi\"\n",
    "Age = 19\n",
    "Height = 5.3 \n",
    "print(f\"My name is {Name}, I am {Age} years old and my height is {Height} feet.\")"
   ]
  },
  {
   "cell_type": "code",
   "execution_count": 2,
   "id": "e24216a2",
   "metadata": {},
   "outputs": [
    {
     "name": "stdout",
     "output_type": "stream",
     "text": [
      "My height in meters is 1.6 m.\n"
     ]
    }
   ],
   "source": [
    "# convert cm into m.\n",
    "height_cm = 160\n",
    "height_m = height_cm / 100\n",
    "print(f\"My height in meters is {height_m} m.\")"
   ]
  },
  {
   "cell_type": "code",
   "execution_count": 2,
   "id": "a97533a9",
   "metadata": {},
   "outputs": [
    {
     "name": "stdout",
     "output_type": "stream",
     "text": [
      "The sum is: 7\n",
      "The difference is: 3\n",
      "The product is: 10\n",
      "The float division is: 2.5\n",
      "The floor division is: 2\n"
     ]
    }
   ],
   "source": [
    "# Taking input from user.\n",
    "num1 = int(input(\"Enter first number: \"))\n",
    "num2 = int(input(\"Enter second number: \"))\n",
    "sum = num1 + num2\n",
    "difference = num1 - num2\n",
    "product = num1 * num2\n",
    "float_division = num1 / num2\n",
    "floor_division = num1 // num2\n",
    "print(f\"The sum is: {sum}\")\n",
    "print(f\"The difference is: {difference}\")\n",
    "print(f\"The product is: {product}\")\n",
    "print(f\"The float division is: {float_division}\")\n",
    "print(f\"The floor division is: {floor_division}\")\n"
   ]
  },
  {
   "cell_type": "code",
   "execution_count": 4,
   "id": "0a70cdb7",
   "metadata": {},
   "outputs": [
    {
     "name": "stdout",
     "output_type": "stream",
     "text": [
      "Square:25\n",
      "Cube:125\n"
     ]
    }
   ],
   "source": [
    "# calculate cube and square\n",
    "num = int(input(\" Enter the number\"))\n",
    "square = num ** 2\n",
    "cube = num ** 3\n",
    "print(f\"Square:{square}\")\n",
    "print(f\"Cube:{cube}\")"
   ]
  }
 ],
 "metadata": {
  "kernelspec": {
   "display_name": "Python 3",
   "language": "python",
   "name": "python3"
  },
  "language_info": {
   "codemirror_mode": {
    "name": "ipython",
    "version": 3
   },
   "file_extension": ".py",
   "mimetype": "text/x-python",
   "name": "python",
   "nbconvert_exporter": "python",
   "pygments_lexer": "ipython3",
   "version": "3.13.1"
  }
 },
 "nbformat": 4,
 "nbformat_minor": 5
}
